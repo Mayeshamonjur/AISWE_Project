{
 "cells": [
  {
   "cell_type": "code",
   "execution_count": 4,
   "id": "5d064163-9d8f-4d5d-8475-a0b44c58de87",
   "metadata": {},
   "outputs": [
    {
     "ename": "SyntaxError",
     "evalue": "EOL while scanning string literal (982245284.py, line 26)",
     "output_type": "error",
     "traceback": [
      "\u001b[0;36m  Cell \u001b[0;32mIn[4], line 26\u001b[0;36m\u001b[0m\n\u001b[0;31m    f\"\\nInput:\\n{test_row['input'].replace('\"', '')}\"\u001b[0m\n\u001b[0m                                                     ^\u001b[0m\n\u001b[0;31mSyntaxError\u001b[0m\u001b[0;31m:\u001b[0m EOL while scanning string literal\n"
     ]
    }
   ],
   "source": [
    "import pandas as pd\n",
    "\n",
    "def split_and_find_matches(df):\n",
    "    df['Tags'] = df['Tags'].apply(lambda x: ' '.join(str(x).split()) if pd.notnull(x) else '')\n",
    "    train_df = df.sample(frac=0.6, random_state=1) \n",
    "    test_df = df.drop(train_df.index)\n",
    "    \n",
    "    def count_matching_tags(tags1, tags2):\n",
    "        set1 = set(tags1.split())\n",
    "        set2 = set(tags2.split())\n",
    "        return len(set1.intersection(set2))\n",
    "    \n",
    "    \n",
    "    for index, test_row in test_df.iterrows():\n",
    "        train_df['MatchingTags'] = train_df['Tags'].apply(lambda x: count_matching_tags(x, test_row['Tags']))\n",
    "        sorted_train_df = train_df.sort_values('MatchingTags', ascending=False)\n",
    "        top_matches = sorted_train_df.head(1)\n",
    "        \n",
    "        if not top_matches.empty:\n",
    "            top_row = top_matches.iloc[0]\n",
    "            prompt_fewshot = (f\"This is a code block, written in Java, that has a slow algorithmic time complexity:\\n{test_row['GROUND']} \"\n",
    "                      f\"\\n\\nI want you to optimize the code above such that the new code is more time efficient and serves the same objective as the code block above. I don't want you to give me any explanation, just return the newly generated code.\"\n",
    "                      f\"\\nUse a similar optimization example as a reference. \\nExample - The code: {top_row['GROUND']} \"\n",
    "                      f\"\\n\\nis optimized to: {top_row['BEST']}\"\n",
    "                      f\"\\n\\nMake sure it still passes the test case:\"\n",
    "                      f\"\\nInput:\\n{test_row['input']}\"\n",
    "                      f\"\\nOutput:\\n{test_row['output']}\\n\")\n",
    "            prompt_oneshot = (f\"This is a code block, written in Java, that has a slow algorithmic time complexity:\\n{test_row['GROUND']} \"\n",
    "                      f\"\\n\\nI want you to optimize the code above such that the new code is more time efficient and serves the same objective as the code block above. I don't want you to give me any explanation, just return the newly generated code.\"\n",
    "                      f\"\\n\\nMake sure it still passes the test case:\"\n",
    "                      f\"\\nInput:\\n{test_row['input']}\"\n",
    "                      f\"\\nOutput:\\n{test_row['output']}\\n\")\n",
    "            \n",
    "            test_df.loc[index, 'One Shot Prompt'] = prompt_oneshot\n",
    "            test_df.loc[index, 'Few Shot Prompt'] = prompt_fewshot\n",
    "        else:\n",
    "            prompt = (f\"This is a code block, written in Java, that has a slow algorithmic time complexity:\\n{test_row['GROUND']} \"\n",
    "                      f\"\\n\\nI want you to optimize the code above such that the new code is more time efficient and serves the same objective as the code block above. I don't want you to give me any explanation, just return the newly generated code.\"\n",
    "                      f\"\\n\\nMake sure it still passes the test case:\"\n",
    "                      f\"\\nInput:\\n{test_row['input']}\"\n",
    "                      f\"\\nOutput:\\n{test_row['output']}\\n\")\n",
    "            test_df.loc[index, 'One Shot Prompt'] = prompt\n",
    "            test_df.loc[index, 'Few Shot Prompt'] = \"\"\n",
    "\n",
    "        test_df.loc[index, 'One Shot Response: GPT-4'] = \"\"\n",
    "        test_df.loc[index, 'One Shot Response: GitHub Pilot'] = \"\"\n",
    "\n",
    "        test_df.loc[index, 'Few Shot Response: GPT-4'] = \"\"\n",
    "        test_df.loc[index, 'Few Shot Response: GitHub Pilot'] = \"\"\n",
    "    \n",
    "    return test_df\n",
    "\n",
    "\n",
    "df = pd.read_csv('final_merged_with_tags.csv')\n",
    "test_df_with_prompts = split_and_find_matches(df)\n",
    "\n",
    "\n",
    "output_csv_path = 'final_merged_with_prompts_test_case.csv'\n",
    "test_df_with_prompts.to_csv(output_csv_path, index=False)"
   ]
  },
  {
   "cell_type": "code",
   "execution_count": null,
   "id": "b2a730ea-134b-4771-9dab-6584151f7b43",
   "metadata": {},
   "outputs": [],
   "source": []
  }
 ],
 "metadata": {
  "kernelspec": {
   "display_name": "Python 3 (ipykernel)",
   "language": "python",
   "name": "python3"
  },
  "language_info": {
   "codemirror_mode": {
    "name": "ipython",
    "version": 3
   },
   "file_extension": ".py",
   "mimetype": "text/x-python",
   "name": "python",
   "nbconvert_exporter": "python",
   "pygments_lexer": "ipython3",
   "version": "3.9.16"
  }
 },
 "nbformat": 4,
 "nbformat_minor": 5
}

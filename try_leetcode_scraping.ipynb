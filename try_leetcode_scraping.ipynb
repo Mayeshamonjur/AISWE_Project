{
 "cells": [
  {
   "cell_type": "code",
   "execution_count": 1,
   "id": "e4e406f5-e232-4e22-86e1-c8bef64401f9",
   "metadata": {},
   "outputs": [
    {
     "name": "stdout",
     "output_type": "stream",
     "text": [
      "\u001b[33mWARNING: Skipping /opt/homebrew/lib/python3.11/site-packages/numpy-1.26.4.dist-info due to invalid metadata entry 'name'\u001b[0m\u001b[33m\n",
      "\u001b[0mRequirement already satisfied: leetscrape in /opt/homebrew/lib/python3.11/site-packages (1.0.1)\n",
      "Requirement already satisfied: black<23.0.0,>=22.12.0 in /opt/homebrew/lib/python3.11/site-packages (from leetscrape) (22.12.0)\n",
      "Requirement already satisfied: docstring-parser<0.16,>=0.15 in /opt/homebrew/lib/python3.11/site-packages (from leetscrape) (0.15)\n",
      "Requirement already satisfied: markdownify<0.12.0,>=0.11.6 in /opt/homebrew/lib/python3.11/site-packages (from leetscrape) (0.11.6)\n",
      "Requirement already satisfied: marko<2.0.0,>=1.2.2 in /opt/homebrew/lib/python3.11/site-packages (from leetscrape) (1.3.1)\n",
      "Requirement already satisfied: pandas<2.0.0,>=1.5.2 in /opt/homebrew/lib/python3.11/site-packages (from leetscrape) (1.5.3)\n",
      "Requirement already satisfied: pydantic<2.0.0,>=1.10.4 in /opt/homebrew/lib/python3.11/site-packages (from leetscrape) (1.10.14)\n",
      "Requirement already satisfied: requests<3.0.0,>=2.28.2 in /opt/homebrew/lib/python3.11/site-packages (from leetscrape) (2.31.0)\n",
      "Requirement already satisfied: tqdm<5.0.0,>=4.64.1 in /opt/homebrew/lib/python3.11/site-packages (from leetscrape) (4.66.2)\n",
      "Requirement already satisfied: click>=8.0.0 in /opt/homebrew/lib/python3.11/site-packages (from black<23.0.0,>=22.12.0->leetscrape) (8.1.7)\n",
      "Requirement already satisfied: mypy-extensions>=0.4.3 in /opt/homebrew/lib/python3.11/site-packages (from black<23.0.0,>=22.12.0->leetscrape) (1.0.0)\n",
      "Requirement already satisfied: pathspec>=0.9.0 in /opt/homebrew/lib/python3.11/site-packages (from black<23.0.0,>=22.12.0->leetscrape) (0.12.1)\n",
      "Requirement already satisfied: platformdirs>=2 in /opt/homebrew/lib/python3.11/site-packages (from black<23.0.0,>=22.12.0->leetscrape) (4.0.0)\n",
      "Requirement already satisfied: beautifulsoup4<5,>=4.9 in /opt/homebrew/lib/python3.11/site-packages (from markdownify<0.12.0,>=0.11.6->leetscrape) (4.12.2)\n",
      "Requirement already satisfied: six<2,>=1.15 in /opt/homebrew/lib/python3.11/site-packages (from markdownify<0.12.0,>=0.11.6->leetscrape) (1.16.0)\n",
      "Requirement already satisfied: python-dateutil>=2.8.1 in /opt/homebrew/lib/python3.11/site-packages (from pandas<2.0.0,>=1.5.2->leetscrape) (2.8.2)\n",
      "Requirement already satisfied: pytz>=2020.1 in /opt/homebrew/lib/python3.11/site-packages (from pandas<2.0.0,>=1.5.2->leetscrape) (2023.3.post1)\n",
      "Requirement already satisfied: numpy>=1.21.0 in /opt/homebrew/lib/python3.11/site-packages (from pandas<2.0.0,>=1.5.2->leetscrape) (1.26.2)\n",
      "Requirement already satisfied: typing-extensions>=4.2.0 in /opt/homebrew/lib/python3.11/site-packages (from pydantic<2.0.0,>=1.10.4->leetscrape) (4.10.0)\n",
      "Requirement already satisfied: charset-normalizer<4,>=2 in /opt/homebrew/lib/python3.11/site-packages (from requests<3.0.0,>=2.28.2->leetscrape) (3.3.2)\n",
      "Requirement already satisfied: idna<4,>=2.5 in /opt/homebrew/lib/python3.11/site-packages (from requests<3.0.0,>=2.28.2->leetscrape) (3.6)\n",
      "Requirement already satisfied: urllib3<3,>=1.21.1 in /opt/homebrew/lib/python3.11/site-packages (from requests<3.0.0,>=2.28.2->leetscrape) (2.1.0)\n",
      "Requirement already satisfied: certifi>=2017.4.17 in /opt/homebrew/lib/python3.11/site-packages (from requests<3.0.0,>=2.28.2->leetscrape) (2024.2.2)\n",
      "Requirement already satisfied: soupsieve>1.2 in /opt/homebrew/lib/python3.11/site-packages (from beautifulsoup4<5,>=4.9->markdownify<0.12.0,>=0.11.6->leetscrape) (2.5)\n",
      "\u001b[33mWARNING: Skipping /opt/homebrew/lib/python3.11/site-packages/numpy-1.26.4.dist-info due to invalid metadata entry 'name'\u001b[0m\u001b[33m\n",
      "\u001b[0m\u001b[33mWARNING: Skipping /opt/homebrew/lib/python3.11/site-packages/numpy-1.26.4.dist-info due to invalid metadata entry 'name'\u001b[0m\u001b[33m\n",
      "\u001b[0m\u001b[33mWARNING: Skipping /opt/homebrew/lib/python3.11/site-packages/numpy-1.26.4.dist-info due to invalid metadata entry 'name'\u001b[0m\u001b[33m\n",
      "\u001b[0m\n",
      "\u001b[1m[\u001b[0m\u001b[34;49mnotice\u001b[0m\u001b[1;39;49m]\u001b[0m\u001b[39;49m A new release of pip is available: \u001b[0m\u001b[31;49m23.2.1\u001b[0m\u001b[39;49m -> \u001b[0m\u001b[32;49m24.0\u001b[0m\n",
      "\u001b[1m[\u001b[0m\u001b[34;49mnotice\u001b[0m\u001b[1;39;49m]\u001b[0m\u001b[39;49m To update, run: \u001b[0m\u001b[32;49mpython3.11 -m pip install --upgrade pip\u001b[0m\n",
      "Note: you may need to restart the kernel to use updated packages.\n"
     ]
    }
   ],
   "source": [
    "pip install leetscrape"
   ]
  },
  {
   "cell_type": "code",
   "execution_count": 3,
   "id": "10238296-7a9c-4f72-953c-ef6c046aa1c2",
   "metadata": {},
   "outputs": [
    {
     "name": "stdout",
     "output_type": "stream",
     "text": [
      "Scraping companies ... Done\n",
      "Scraping questions list ... Done\n",
      "Extracting question topics ... Done\n",
      "Getting Categories ... Done\n",
      "Scraping Topic Tags ... Done\n",
      "Extracting question category ... Done\n"
     ]
    },
    {
     "data": {
      "text/html": [
       "<div>\n",
       "<style scoped>\n",
       "    .dataframe tbody tr th:only-of-type {\n",
       "        vertical-align: middle;\n",
       "    }\n",
       "\n",
       "    .dataframe tbody tr th {\n",
       "        vertical-align: top;\n",
       "    }\n",
       "\n",
       "    .dataframe thead th {\n",
       "        text-align: right;\n",
       "    }\n",
       "</style>\n",
       "<table border=\"1\" class=\"dataframe\">\n",
       "  <thead>\n",
       "    <tr style=\"text-align: right;\">\n",
       "      <th></th>\n",
       "      <th>QID</th>\n",
       "      <th>title</th>\n",
       "      <th>titleSlug</th>\n",
       "      <th>difficulty</th>\n",
       "      <th>acceptanceRate</th>\n",
       "      <th>paidOnly</th>\n",
       "      <th>topicTags</th>\n",
       "      <th>categorySlug</th>\n",
       "    </tr>\n",
       "  </thead>\n",
       "  <tbody>\n",
       "    <tr>\n",
       "      <th>0</th>\n",
       "      <td>1</td>\n",
       "      <td>Two Sum</td>\n",
       "      <td>two-sum</td>\n",
       "      <td>Easy</td>\n",
       "      <td>52.156007</td>\n",
       "      <td>False</td>\n",
       "      <td>array,hash-table</td>\n",
       "      <td>algorithms</td>\n",
       "    </tr>\n",
       "    <tr>\n",
       "      <th>1</th>\n",
       "      <td>2</td>\n",
       "      <td>Add Two Numbers</td>\n",
       "      <td>add-two-numbers</td>\n",
       "      <td>Medium</td>\n",
       "      <td>42.520210</td>\n",
       "      <td>False</td>\n",
       "      <td>linked-list,math,recursion</td>\n",
       "      <td>algorithms</td>\n",
       "    </tr>\n",
       "    <tr>\n",
       "      <th>2</th>\n",
       "      <td>3</td>\n",
       "      <td>Longest Substring Without Repeating Characters</td>\n",
       "      <td>longest-substring-without-repeating-characters</td>\n",
       "      <td>Medium</td>\n",
       "      <td>34.620121</td>\n",
       "      <td>False</td>\n",
       "      <td>hash-table,string,sliding-window</td>\n",
       "      <td>algorithms</td>\n",
       "    </tr>\n",
       "    <tr>\n",
       "      <th>3</th>\n",
       "      <td>4</td>\n",
       "      <td>Median of Two Sorted Arrays</td>\n",
       "      <td>median-of-two-sorted-arrays</td>\n",
       "      <td>Hard</td>\n",
       "      <td>39.627581</td>\n",
       "      <td>False</td>\n",
       "      <td>array,binary-search,divide-and-conquer</td>\n",
       "      <td>algorithms</td>\n",
       "    </tr>\n",
       "    <tr>\n",
       "      <th>4</th>\n",
       "      <td>5</td>\n",
       "      <td>Longest Palindromic Substring</td>\n",
       "      <td>longest-palindromic-substring</td>\n",
       "      <td>Medium</td>\n",
       "      <td>33.710853</td>\n",
       "      <td>False</td>\n",
       "      <td>string,dynamic-programming</td>\n",
       "      <td>algorithms</td>\n",
       "    </tr>\n",
       "  </tbody>\n",
       "</table>\n",
       "</div>"
      ],
      "text/plain": [
       "  QID                                           title  \\\n",
       "0   1                                         Two Sum   \n",
       "1   2                                 Add Two Numbers   \n",
       "2   3  Longest Substring Without Repeating Characters   \n",
       "3   4                     Median of Two Sorted Arrays   \n",
       "4   5                   Longest Palindromic Substring   \n",
       "\n",
       "                                        titleSlug difficulty  acceptanceRate  \\\n",
       "0                                         two-sum       Easy       52.156007   \n",
       "1                                 add-two-numbers     Medium       42.520210   \n",
       "2  longest-substring-without-repeating-characters     Medium       34.620121   \n",
       "3                     median-of-two-sorted-arrays       Hard       39.627581   \n",
       "4                   longest-palindromic-substring     Medium       33.710853   \n",
       "\n",
       "   paidOnly                               topicTags categorySlug  \n",
       "0     False                        array,hash-table   algorithms  \n",
       "1     False              linked-list,math,recursion   algorithms  \n",
       "2     False        hash-table,string,sliding-window   algorithms  \n",
       "3     False  array,binary-search,divide-and-conquer   algorithms  \n",
       "4     False              string,dynamic-programming   algorithms  "
      ]
     },
     "execution_count": 3,
     "metadata": {},
     "output_type": "execute_result"
    }
   ],
   "source": [
    "from leetscrape import GetQuestionsList\n",
    "\n",
    "ls = GetQuestionsList()\n",
    "ls.scrape() # Scrape the list of questions\n",
    "ls.questions.head() # Get the list of questions"
   ]
  },
  {
   "cell_type": "code",
   "execution_count": 4,
   "id": "346b608c-1657-42ab-8f38-cdcfa417775b",
   "metadata": {},
   "outputs": [],
   "source": [
    "ls.to_csv(directory=\"\")\n",
    "# https://github.com/nikhil-ravi/LeetScrape"
   ]
  },
  {
   "cell_type": "code",
   "execution_count": 2,
   "id": "1c13ab31-282f-4010-bec5-13391ad4c03a",
   "metadata": {},
   "outputs": [
    {
     "ename": "JSONDecodeError",
     "evalue": "Expecting value: line 1 column 1 (char 0)",
     "output_type": "error",
     "traceback": [
      "\u001b[0;31m---------------------------------------------------------------------------\u001b[0m",
      "\u001b[0;31mJSONDecodeError\u001b[0m                           Traceback (most recent call last)",
      "File \u001b[0;32m/opt/homebrew/lib/python3.11/site-packages/requests/models.py:971\u001b[0m, in \u001b[0;36mResponse.json\u001b[0;34m(self, **kwargs)\u001b[0m\n\u001b[1;32m    970\u001b[0m \u001b[38;5;28;01mtry\u001b[39;00m:\n\u001b[0;32m--> 971\u001b[0m     \u001b[38;5;28;01mreturn\u001b[39;00m \u001b[43mcomplexjson\u001b[49m\u001b[38;5;241;43m.\u001b[39;49m\u001b[43mloads\u001b[49m\u001b[43m(\u001b[49m\u001b[38;5;28;43mself\u001b[39;49m\u001b[38;5;241;43m.\u001b[39;49m\u001b[43mtext\u001b[49m\u001b[43m,\u001b[49m\u001b[43m \u001b[49m\u001b[38;5;241;43m*\u001b[39;49m\u001b[38;5;241;43m*\u001b[39;49m\u001b[43mkwargs\u001b[49m\u001b[43m)\u001b[49m\n\u001b[1;32m    972\u001b[0m \u001b[38;5;28;01mexcept\u001b[39;00m JSONDecodeError \u001b[38;5;28;01mas\u001b[39;00m e:\n\u001b[1;32m    973\u001b[0m     \u001b[38;5;66;03m# Catch JSON-related errors and raise as requests.JSONDecodeError\u001b[39;00m\n\u001b[1;32m    974\u001b[0m     \u001b[38;5;66;03m# This aliases json.JSONDecodeError and simplejson.JSONDecodeError\u001b[39;00m\n",
      "File \u001b[0;32m/opt/homebrew/Cellar/python@3.11/3.11.5/Frameworks/Python.framework/Versions/3.11/lib/python3.11/json/__init__.py:346\u001b[0m, in \u001b[0;36mloads\u001b[0;34m(s, cls, object_hook, parse_float, parse_int, parse_constant, object_pairs_hook, **kw)\u001b[0m\n\u001b[1;32m    343\u001b[0m \u001b[38;5;28;01mif\u001b[39;00m (\u001b[38;5;28mcls\u001b[39m \u001b[38;5;129;01mis\u001b[39;00m \u001b[38;5;28;01mNone\u001b[39;00m \u001b[38;5;129;01mand\u001b[39;00m object_hook \u001b[38;5;129;01mis\u001b[39;00m \u001b[38;5;28;01mNone\u001b[39;00m \u001b[38;5;129;01mand\u001b[39;00m\n\u001b[1;32m    344\u001b[0m         parse_int \u001b[38;5;129;01mis\u001b[39;00m \u001b[38;5;28;01mNone\u001b[39;00m \u001b[38;5;129;01mand\u001b[39;00m parse_float \u001b[38;5;129;01mis\u001b[39;00m \u001b[38;5;28;01mNone\u001b[39;00m \u001b[38;5;129;01mand\u001b[39;00m\n\u001b[1;32m    345\u001b[0m         parse_constant \u001b[38;5;129;01mis\u001b[39;00m \u001b[38;5;28;01mNone\u001b[39;00m \u001b[38;5;129;01mand\u001b[39;00m object_pairs_hook \u001b[38;5;129;01mis\u001b[39;00m \u001b[38;5;28;01mNone\u001b[39;00m \u001b[38;5;129;01mand\u001b[39;00m \u001b[38;5;129;01mnot\u001b[39;00m kw):\n\u001b[0;32m--> 346\u001b[0m     \u001b[38;5;28;01mreturn\u001b[39;00m \u001b[43m_default_decoder\u001b[49m\u001b[38;5;241;43m.\u001b[39;49m\u001b[43mdecode\u001b[49m\u001b[43m(\u001b[49m\u001b[43ms\u001b[49m\u001b[43m)\u001b[49m\n\u001b[1;32m    347\u001b[0m \u001b[38;5;28;01mif\u001b[39;00m \u001b[38;5;28mcls\u001b[39m \u001b[38;5;129;01mis\u001b[39;00m \u001b[38;5;28;01mNone\u001b[39;00m:\n",
      "File \u001b[0;32m/opt/homebrew/Cellar/python@3.11/3.11.5/Frameworks/Python.framework/Versions/3.11/lib/python3.11/json/decoder.py:337\u001b[0m, in \u001b[0;36mJSONDecoder.decode\u001b[0;34m(self, s, _w)\u001b[0m\n\u001b[1;32m    333\u001b[0m \u001b[38;5;250m\u001b[39m\u001b[38;5;124;03m\"\"\"Return the Python representation of ``s`` (a ``str`` instance\u001b[39;00m\n\u001b[1;32m    334\u001b[0m \u001b[38;5;124;03mcontaining a JSON document).\u001b[39;00m\n\u001b[1;32m    335\u001b[0m \n\u001b[1;32m    336\u001b[0m \u001b[38;5;124;03m\"\"\"\u001b[39;00m\n\u001b[0;32m--> 337\u001b[0m obj, end \u001b[38;5;241m=\u001b[39m \u001b[38;5;28;43mself\u001b[39;49m\u001b[38;5;241;43m.\u001b[39;49m\u001b[43mraw_decode\u001b[49m\u001b[43m(\u001b[49m\u001b[43ms\u001b[49m\u001b[43m,\u001b[49m\u001b[43m \u001b[49m\u001b[43midx\u001b[49m\u001b[38;5;241;43m=\u001b[39;49m\u001b[43m_w\u001b[49m\u001b[43m(\u001b[49m\u001b[43ms\u001b[49m\u001b[43m,\u001b[49m\u001b[43m \u001b[49m\u001b[38;5;241;43m0\u001b[39;49m\u001b[43m)\u001b[49m\u001b[38;5;241;43m.\u001b[39;49m\u001b[43mend\u001b[49m\u001b[43m(\u001b[49m\u001b[43m)\u001b[49m\u001b[43m)\u001b[49m\n\u001b[1;32m    338\u001b[0m end \u001b[38;5;241m=\u001b[39m _w(s, end)\u001b[38;5;241m.\u001b[39mend()\n",
      "File \u001b[0;32m/opt/homebrew/Cellar/python@3.11/3.11.5/Frameworks/Python.framework/Versions/3.11/lib/python3.11/json/decoder.py:355\u001b[0m, in \u001b[0;36mJSONDecoder.raw_decode\u001b[0;34m(self, s, idx)\u001b[0m\n\u001b[1;32m    354\u001b[0m \u001b[38;5;28;01mexcept\u001b[39;00m \u001b[38;5;167;01mStopIteration\u001b[39;00m \u001b[38;5;28;01mas\u001b[39;00m err:\n\u001b[0;32m--> 355\u001b[0m     \u001b[38;5;28;01mraise\u001b[39;00m JSONDecodeError(\u001b[38;5;124m\"\u001b[39m\u001b[38;5;124mExpecting value\u001b[39m\u001b[38;5;124m\"\u001b[39m, s, err\u001b[38;5;241m.\u001b[39mvalue) \u001b[38;5;28;01mfrom\u001b[39;00m \u001b[38;5;28;01mNone\u001b[39;00m\n\u001b[1;32m    356\u001b[0m \u001b[38;5;28;01mreturn\u001b[39;00m obj, end\n",
      "\u001b[0;31mJSONDecodeError\u001b[0m: Expecting value: line 1 column 1 (char 0)",
      "\nDuring handling of the above exception, another exception occurred:\n",
      "\u001b[0;31mJSONDecodeError\u001b[0m                           Traceback (most recent call last)",
      "Cell \u001b[0;32mIn[2], line 4\u001b[0m\n\u001b[1;32m      1\u001b[0m \u001b[38;5;28;01mfrom\u001b[39;00m \u001b[38;5;21;01mleetscrape\u001b[39;00m \u001b[38;5;28;01mimport\u001b[39;00m GenerateCodeStub\n\u001b[1;32m      3\u001b[0m \u001b[38;5;66;03m# Get the question body\u001b[39;00m\n\u001b[0;32m----> 4\u001b[0m fcs \u001b[38;5;241m=\u001b[39m \u001b[43mGenerateCodeStub\u001b[49m\u001b[43m(\u001b[49m\u001b[43mtitleSlug\u001b[49m\u001b[38;5;241;43m=\u001b[39;49m\u001b[38;5;124;43m\"\u001b[39;49m\u001b[38;5;124;43mtwo-sum\u001b[39;49m\u001b[38;5;124;43m\"\u001b[39;49m\u001b[43m)\u001b[49m\n\u001b[1;32m      5\u001b[0m fcs\u001b[38;5;241m.\u001b[39mgenerate(directory\u001b[38;5;241m=\u001b[39m\u001b[38;5;124m\"\u001b[39m\u001b[38;5;124m\"\u001b[39m)\n",
      "File \u001b[0;32m/opt/homebrew/lib/python3.11/site-packages/leetscrape/generate_code_stub.py:28\u001b[0m, in \u001b[0;36mGenerateCodeStub.__init__\u001b[0;34m(self, titleSlug, qid)\u001b[0m\n\u001b[1;32m     22\u001b[0m \u001b[38;5;28;01mdef\u001b[39;00m \u001b[38;5;21m__init__\u001b[39m(\n\u001b[1;32m     23\u001b[0m     \u001b[38;5;28mself\u001b[39m,\n\u001b[1;32m     24\u001b[0m     titleSlug: \u001b[38;5;28mstr\u001b[39m \u001b[38;5;241m|\u001b[39m \u001b[38;5;28;01mNone\u001b[39;00m \u001b[38;5;241m=\u001b[39m \u001b[38;5;28;01mNone\u001b[39;00m,\n\u001b[1;32m     25\u001b[0m     qid: \u001b[38;5;28mint\u001b[39m \u001b[38;5;241m|\u001b[39m \u001b[38;5;28;01mNone\u001b[39;00m \u001b[38;5;241m=\u001b[39m \u001b[38;5;28;01mNone\u001b[39;00m,\n\u001b[1;32m     26\u001b[0m ):\n\u001b[1;32m     27\u001b[0m     \u001b[38;5;28mself\u001b[39m\u001b[38;5;241m.\u001b[39mall_questions_stub_id \u001b[38;5;241m=\u001b[39m (\n\u001b[0;32m---> 28\u001b[0m         \u001b[43mGetQuestion\u001b[49m\u001b[38;5;241;43m.\u001b[39;49m\u001b[43mfetch_all_questions_id_and_stub\u001b[49m\u001b[43m(\u001b[49m\u001b[43m)\u001b[49m\u001b[38;5;241m.\u001b[39mreset_index()\u001b[38;5;241m.\u001b[39mset_index(\u001b[38;5;124m\"\u001b[39m\u001b[38;5;124mQID\u001b[39m\u001b[38;5;124m\"\u001b[39m)\n\u001b[1;32m     29\u001b[0m     )\n\u001b[1;32m     30\u001b[0m     \u001b[38;5;28mself\u001b[39m\u001b[38;5;241m.\u001b[39mtitleSlug \u001b[38;5;241m=\u001b[39m titleSlug\n\u001b[1;32m     31\u001b[0m     \u001b[38;5;28mself\u001b[39m\u001b[38;5;241m.\u001b[39mqid \u001b[38;5;241m=\u001b[39m qid\n",
      "File \u001b[0;32m/opt/homebrew/lib/python3.11/site-packages/leetscrape/question.py:30\u001b[0m, in \u001b[0;36mGetQuestion.fetch_all_questions_id_and_stub\u001b[0;34m()\u001b[0m\n\u001b[1;32m     28\u001b[0m \u001b[38;5;129m@staticmethod\u001b[39m\n\u001b[1;32m     29\u001b[0m \u001b[38;5;28;01mdef\u001b[39;00m \u001b[38;5;21mfetch_all_questions_id_and_stub\u001b[39m():\n\u001b[0;32m---> 30\u001b[0m     req \u001b[38;5;241m=\u001b[39m \u001b[43mrequests\u001b[49m\u001b[38;5;241;43m.\u001b[39;49m\u001b[43mget\u001b[49m\u001b[43m(\u001b[49m\u001b[38;5;124;43m\"\u001b[39;49m\u001b[38;5;124;43mhttps://leetcode.com/api/problems/all/\u001b[39;49m\u001b[38;5;124;43m\"\u001b[39;49m\u001b[43m)\u001b[49m\u001b[38;5;241;43m.\u001b[39;49m\u001b[43mjson\u001b[49m\u001b[43m(\u001b[49m\u001b[43m)\u001b[49m\n\u001b[1;32m     31\u001b[0m     question_data \u001b[38;5;241m=\u001b[39m pd\u001b[38;5;241m.\u001b[39mjson_normalize(req[\u001b[38;5;124m\"\u001b[39m\u001b[38;5;124mstat_status_pairs\u001b[39m\u001b[38;5;124m\"\u001b[39m])\u001b[38;5;241m.\u001b[39mrename(\n\u001b[1;32m     32\u001b[0m         columns\u001b[38;5;241m=\u001b[39m{\n\u001b[1;32m     33\u001b[0m             \u001b[38;5;124m\"\u001b[39m\u001b[38;5;124mstat.frontend_question_id\u001b[39m\u001b[38;5;124m\"\u001b[39m: \u001b[38;5;124m\"\u001b[39m\u001b[38;5;124mQID\u001b[39m\u001b[38;5;124m\"\u001b[39m,\n\u001b[1;32m     34\u001b[0m             \u001b[38;5;124m\"\u001b[39m\u001b[38;5;124mstat.question__title_slug\u001b[39m\u001b[38;5;124m\"\u001b[39m: \u001b[38;5;124m\"\u001b[39m\u001b[38;5;124mtitleSlug\u001b[39m\u001b[38;5;124m\"\u001b[39m,\n\u001b[1;32m     35\u001b[0m         }\n\u001b[1;32m     36\u001b[0m     )[[\u001b[38;5;124m\"\u001b[39m\u001b[38;5;124mQID\u001b[39m\u001b[38;5;124m\"\u001b[39m, \u001b[38;5;124m\"\u001b[39m\u001b[38;5;124mtitleSlug\u001b[39m\u001b[38;5;124m\"\u001b[39m]]\n\u001b[1;32m     38\u001b[0m     \u001b[38;5;28;01mreturn\u001b[39;00m question_data\u001b[38;5;241m.\u001b[39msort_values(\u001b[38;5;124m\"\u001b[39m\u001b[38;5;124mQID\u001b[39m\u001b[38;5;124m\"\u001b[39m)\u001b[38;5;241m.\u001b[39mset_index(\u001b[38;5;124m\"\u001b[39m\u001b[38;5;124mtitleSlug\u001b[39m\u001b[38;5;124m\"\u001b[39m)\n",
      "File \u001b[0;32m/opt/homebrew/lib/python3.11/site-packages/requests/models.py:975\u001b[0m, in \u001b[0;36mResponse.json\u001b[0;34m(self, **kwargs)\u001b[0m\n\u001b[1;32m    971\u001b[0m     \u001b[38;5;28;01mreturn\u001b[39;00m complexjson\u001b[38;5;241m.\u001b[39mloads(\u001b[38;5;28mself\u001b[39m\u001b[38;5;241m.\u001b[39mtext, \u001b[38;5;241m*\u001b[39m\u001b[38;5;241m*\u001b[39mkwargs)\n\u001b[1;32m    972\u001b[0m \u001b[38;5;28;01mexcept\u001b[39;00m JSONDecodeError \u001b[38;5;28;01mas\u001b[39;00m e:\n\u001b[1;32m    973\u001b[0m     \u001b[38;5;66;03m# Catch JSON-related errors and raise as requests.JSONDecodeError\u001b[39;00m\n\u001b[1;32m    974\u001b[0m     \u001b[38;5;66;03m# This aliases json.JSONDecodeError and simplejson.JSONDecodeError\u001b[39;00m\n\u001b[0;32m--> 975\u001b[0m     \u001b[38;5;28;01mraise\u001b[39;00m RequestsJSONDecodeError(e\u001b[38;5;241m.\u001b[39mmsg, e\u001b[38;5;241m.\u001b[39mdoc, e\u001b[38;5;241m.\u001b[39mpos)\n",
      "\u001b[0;31mJSONDecodeError\u001b[0m: Expecting value: line 1 column 1 (char 0)"
     ]
    }
   ],
   "source": [
    "from leetscrape import GenerateCodeStub\n",
    "\n",
    "# Get the question body\n",
    "fcs = GenerateCodeStub(titleSlug=\"two-sum\")\n",
    "fcs.generate(directory=\"\")"
   ]
  },
  {
   "cell_type": "code",
   "execution_count": null,
   "id": "e4f357dc-afc8-4d2b-9bfb-d56574b411f0",
   "metadata": {},
   "outputs": [],
   "source": [
    "from leetscrape import ExtractSolutions\n",
    "\n",
    "# Get the question body\n",
    "solutions = ExtractSolutions(filename=\"\").extract()"
   ]
  },
  {
   "cell_type": "code",
   "execution_count": null,
   "id": "3ee96955-2341-49ba-b65e-7ac94d46a221",
   "metadata": {},
   "outputs": [],
   "source": [
    "from leetscrape import GetQuestion\n",
    "\n",
    "# Get the question body\n",
    "question = GetQuestion(titleSlug=\"find-trending-hashtags\").scrape()"
   ]
  },
  {
   "cell_type": "code",
   "execution_count": null,
   "id": "95fe6b78-4de2-4bf3-b89c-60d6e69f1443",
   "metadata": {},
   "outputs": [],
   "source": []
  }
 ],
 "metadata": {
  "kernelspec": {
   "display_name": "Python 3 (ipykernel)",
   "language": "python",
   "name": "python3"
  },
  "language_info": {
   "codemirror_mode": {
    "name": "ipython",
    "version": 3
   },
   "file_extension": ".py",
   "mimetype": "text/x-python",
   "name": "python",
   "nbconvert_exporter": "python",
   "pygments_lexer": "ipython3",
   "version": "3.11.5"
  }
 },
 "nbformat": 4,
 "nbformat_minor": 5
}
